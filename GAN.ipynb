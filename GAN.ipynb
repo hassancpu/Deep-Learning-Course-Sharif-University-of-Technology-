{
 "cells": [
  {
   "cell_type": "code",
   "execution_count": null,
   "metadata": {
    "colab": {},
    "colab_type": "code",
    "id": "flZ1MOT8F8kE"
   },
   "outputs": [],
   "source": [
    "import numpy as np\n",
    "import torch\n",
    "import torch.nn as nn\n",
    "import torch.nn.functional as F\n",
    "import torch.optim as optim\n",
    "from torchvision import datasets, transforms"
   ]
  },
  {
   "cell_type": "code",
   "execution_count": null,
   "metadata": {
    "colab": {},
    "colab_type": "code",
    "id": "rg-CYaG9GU03",
    "scrolled": true
   },
   "outputs": [],
   "source": [
    "# MNIST Dataset\n",
    "original_train_dataset = datasets.MNIST(root='./mnist_data/', train=True, transform=transforms.ToTensor(), download=True)\n",
    "original_test_dataset = datasets.MNIST(root='./mnist_data/', train=False, transform=transforms.ToTensor(), download=True)"
   ]
  },
  {
   "cell_type": "code",
   "execution_count": null,
   "metadata": {
    "colab": {},
    "colab_type": "code",
    "id": "wZ06E4yEHbGo"
   },
   "outputs": [],
   "source": [
    "# Device configuration\n",
    "device = torch.device('cuda' if torch.cuda.is_available() else 'cpu')\n",
    "\n",
    "# Set Hyper-parameters (change None)\n",
    "BATCH_SIZE = None\n",
    "LEARNING_RATE_D = None\n",
    "LEARNING_RATE_G = None\n",
    "N_EPOCH = None"
   ]
  },
  {
   "cell_type": "code",
   "execution_count": null,
   "metadata": {
    "colab": {},
    "colab_type": "code",
    "id": "CXUYiAuzGWuh"
   },
   "outputs": [],
   "source": [
    "# Define Train loader\n",
    "train_tensors = original_train_dataset.data.float() / 255\n",
    "test_tensors = original_test_dataset.data.float() / 255\n",
    "\n",
    "train_dataset = torch.utils.data.TensorDataset(train_tensors, original_train_dataset.targets)\n",
    "test_dataset = torch.utils.data.TensorDataset(test_tensors, original_test_dataset.targets)\n",
    "\n",
    "train_loader = torch.utils.data.DataLoader(dataset=train_dataset, batch_size=BATCH_SIZE, shuffle=True)\n",
    "test_loader = torch.utils.data.DataLoader(dataset=test_dataset, batch_size=BATCH_SIZE, shuffle=False)"
   ]
  },
  {
   "cell_type": "code",
   "execution_count": null,
   "metadata": {
    "colab": {},
    "colab_type": "code",
    "id": "b-P5Au4tHZAT"
   },
   "outputs": [],
   "source": [
    "class Discriminator(nn.Module):\n",
    "    def __init__(self):\n",
    "        super(Discriminator, self).__init__()\n",
    "\n",
    "        #######################################\n",
    "        ## use linear or convolutional layer ##\n",
    "        ##        it is better to use        ##\n",
    "        ##    LeakyReLU instead of ReLU      ##\n",
    "        ##   Dropout can help to converge    ##\n",
    "        #######################################\n",
    "\n",
    "    def forward(self, img):\n",
    "\n",
    "        return None\n",
    "\n",
    "class Generator(nn.Module):\n",
    "    def __init__(self):\n",
    "        super(Generator, self).__init__()\n",
    "        \n",
    "        #######################################\n",
    "        ## use linear or convolutional layer ##\n",
    "        ##        it is better to use        ##\n",
    "        ##    LeakyReLU instead of ReLU      ##\n",
    "        #######################################\n",
    "\n",
    "    def forward(self, z):\n",
    "\n",
    "        return None\n",
    "\n",
    "\n",
    "D = Discriminator()\n",
    "G = Generator()"
   ]
  },
  {
   "cell_type": "code",
   "execution_count": null,
   "metadata": {
    "colab": {},
    "colab_type": "code",
    "id": "LPNWbLh5JW1L",
    "scrolled": true
   },
   "outputs": [],
   "source": [
    "# Device setting\n",
    "D = D.to(device)\n",
    "G = G.to(device)"
   ]
  },
  {
   "cell_type": "code",
   "execution_count": null,
   "metadata": {
    "colab": {},
    "colab_type": "code",
    "id": "Kv2HXF9gIQ-Q"
   },
   "outputs": [],
   "source": [
    "# Create two optimizer for discriminator and generator (change None), you can also change the optimizer\n",
    "opt_D = optim.Adam(None, lr=None)\n",
    "opt_G = optim.Adam(None, lr=None)\n",
    "# Loss function (use \".to(device)\" to use gpu(cuda))\n",
    "loss_function = None "
   ]
  },
  {
   "cell_type": "code",
   "execution_count": null,
   "metadata": {
    "colab": {},
    "colab_type": "code",
    "id": "EPhHTmx7zrNK"
   },
   "outputs": [],
   "source": [
    "import matplotlib.pyplot as plt\n",
    "%matplotlib inline\n",
    "plt.rcParams['figure.figsize'] = (10, 3) # set default size of plots"
   ]
  },
  {
   "cell_type": "code",
   "execution_count": null,
   "metadata": {
    "colab": {},
    "colab_type": "code",
    "id": "DFXCjH1LLzNB"
   },
   "outputs": [],
   "source": [
    "for epoch in range(N_EPOCH):\n",
    "    for i, (img, label) in enumerate(train_loader):\n",
    "        \n",
    "        ######################################\n",
    "        ###    if you used linear layers   ###\n",
    "        ###    you have to flat images     ###\n",
    "        ######################################\n",
    "\n",
    "        real_img = img.to(device)\n",
    "        \n",
    "        fake_labels = torch.zeros(img.shape[0], 1)\n",
    "        real_labels = torch.ones(img.shape[0], 1)\n",
    "\n",
    "        ######################################\n",
    "        ###     training discriminator     ###\n",
    "        ### define loss_d for dicriminator ###\n",
    "        ### be carful loss_d should not    ###\n",
    "        ###        change generator !      ###\n",
    "        ######################################\n",
    "        \n",
    "        z = torch.randn(img.shape[0], 128).to(device)\n",
    "        fake_img = generator(z)\n",
    "\n",
    "        opt_D.zero_grad()\n",
    "        \n",
    "        loss_d = None\n",
    "        \n",
    "        loss_d.backward()\n",
    "        opt_D.step()\n",
    "        \n",
    "        ######################################\n",
    "        ###        training generator      ###\n",
    "        ###  define loss_g for generator   ###\n",
    "        ###   it is better to maximize     ###\n",
    "        ###        generator loss !        ###\n",
    "        ######################################\n",
    "        z = torch.randn(img.shape[0], 128).to(device)\n",
    "        fake_img = generator(z)\n",
    "\n",
    "        opt_G.zero_grad()\n",
    "        \n",
    "        loss_g = None\n",
    "        \n",
    "        loss_g.backward()\n",
    "        opt_G.step()\n",
    "\n",
    "    \n",
    "    print(\"epoch: {} \\t last batch loss D: {} \\t last batch loss G: {}\".format(epoch + 1, \n",
    "                                                                               loss_d.item(), \n",
    "                                                                               loss_g.item()))\n",
    "\n",
    "    for i in range(3):\n",
    "        for j in range(10):\n",
    "            plt.subplot(3, 10, i * 10 + j + 1)\n",
    "            plt.imshow(fake_img[i * 10 + j].detach().cpu().view(28, 28).numpy())\n",
    "    plt.show()\n",
    "\n"
   ]
  }
 ],
 "metadata": {
  "accelerator": "GPU",
  "colab": {
   "collapsed_sections": [],
   "name": "pytorch-session-3.ipynb",
   "provenance": [],
   "version": "0.3.2"
  },
  "kernelspec": {
   "display_name": "Python 3",
   "language": "python",
   "name": "python3"
  },
  "language_info": {
   "codemirror_mode": {
    "name": "ipython",
    "version": 3
   },
   "file_extension": ".py",
   "mimetype": "text/x-python",
   "name": "python",
   "nbconvert_exporter": "python",
   "pygments_lexer": "ipython3",
   "version": "3.7.4"
  }
 },
 "nbformat": 4,
 "nbformat_minor": 1
}

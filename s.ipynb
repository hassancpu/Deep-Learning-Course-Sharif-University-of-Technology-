{
 "cells": [
  {
   "cell_type": "markdown",
   "metadata": {},
   "source": [
    "# C-VAE for MNIST\n",
    "\n",
    "For further information read the [Conditional Variational Autoencoder tutorial](https://wiseodd.github.io/techblog/2016/12/17/conditional-vae/)."
   ]
  },
  {
   "cell_type": "code",
   "execution_count": null,
   "metadata": {},
   "outputs": [],
   "source": [
    "import torch\n",
    "import torch.nn as nn\n",
    "import torch.nn.functional as F\n",
    "import torch.optim as optim\n",
    "from torchvision import datasets, transforms"
   ]
  },
  {
   "cell_type": "code",
   "execution_count": null,
   "metadata": {},
   "outputs": [],
   "source": [
    "# Device configuration\n",
    "device = torch.device('cuda' if torch.cuda.is_available() else 'cpu')\n",
    "\n",
    "# Set Hyper-parameters (change None)\n",
    "BATCH_SIZE = None\n",
    "LEARNING_RATE = None\n",
    "N_EPOCH = None\n"
   ]
  },
  {
   "cell_type": "code",
   "execution_count": null,
   "metadata": {},
   "outputs": [],
   "source": [
    "# MNIST Dataset\n",
    "original_train_dataset = datasets.MNIST(root='./mnist_data/', train=True, transform=transforms.ToTensor(), download=True)\n",
    "original_test_dataset = datasets.MNIST(root='./mnist_data/', train=False, transform=transforms.ToTensor(), download=False)\n",
    "\n",
    "# Data Loader (Input Pipeline)\n",
    "train_loader = torch.utils.data.DataLoader(dataset=original_train_dataset, batch_size=BATCH_SIZE, shuffle=True)\n",
    "test_loader = torch.utils.data.DataLoader(dataset=original_test_dataset, batch_size=BATCH_SIZE, shuffle=False)\n"
   ]
  },
  {
   "cell_type": "code",
   "execution_count": null,
   "metadata": {},
   "outputs": [],
   "source": [
    "class CVAE(nn.Module):\n",
    "    def __init__(self, x_dim, z_dim, c_dim):\n",
    "        super(CVAE, self).__init__()\n",
    "        \n",
    "        #######################################\n",
    "        ##       Define Encoder layers       ##\n",
    "        ## use linear or convolutional layer ##\n",
    "        #######################################\n",
    "        \n",
    "        #######################################\n",
    "        ##       Define Decoder layers       ##\n",
    "        ## use linear or convolutional layer ##\n",
    "        #######################################\n",
    "    \n",
    "    def encoder(self, x, c):\n",
    "\n",
    "        return None\n",
    "    \n",
    "    def decoder(self, z, c):\n",
    "\n",
    "        return None\n",
    "    \n",
    "    def sampling(self, mu, log_var):\n",
    "        std = None\n",
    "        eps = None\n",
    "        return eps.mul(std).add(mu)\n",
    "    \n",
    "    \n",
    "    def forward(self, x, c):\n",
    "        \n",
    "        return None"
   ]
  },
  {
   "cell_type": "code",
   "execution_count": null,
   "metadata": {},
   "outputs": [],
   "source": [
    "# Create Model (change None)\n",
    "cond_dim = None\n",
    "latent_dim = None\n",
    "cvae = CVAE(x_dim=None, z_dim=latent_dim, c_dim=cond_dim)\n",
    "\n",
    "# Device setting\n",
    "cvae = cvae.to(device)"
   ]
  },
  {
   "cell_type": "code",
   "execution_count": null,
   "metadata": {},
   "outputs": [],
   "source": [
    "# Your Model\n",
    "cvae"
   ]
  },
  {
   "cell_type": "code",
   "execution_count": null,
   "metadata": {},
   "outputs": [],
   "source": [
    "optimizer = optim.Adam(cvae.parameters(), lr=LEARNING_RATE)\n",
    "\n",
    "# return reconstruction error + KL divergence losses\n",
    "def loss_function(recon_x, x, mu, log_var):\n",
    "    kl_loss = None\n",
    "    recon_loss = None\n",
    "    return 1 * kl_loss + 1 * recon_loss #You can change constants"
   ]
  },
  {
   "cell_type": "code",
   "execution_count": null,
   "metadata": {},
   "outputs": [],
   "source": [
    "# Train\n",
    "for epoch in range(1, N_EPOCH + 1):\n",
    "    cvae.train()\n",
    "    train_loss = 0\n",
    "    for (data, cond) in train_loader:\n",
    "        data = data.to(device)\n",
    "        \n",
    "        cond = None # create one-hot condition\n",
    "        cond = conde.to(device)\n",
    "        \n",
    "        optimizer.zero_grad()\n",
    "        \n",
    "        recon_batch, mu, log_var = cvae(data, cond)\n",
    "        loss = loss_function(recon_batch, data, mu, log_var)\n",
    "        \n",
    "        loss.backward()\n",
    "        train_loss += loss.item()\n",
    "        optimizer.step()\n",
    "    print('Epoch: {}/{}\\t Average loss: {:.4f}'.format(epoch, N_EPOCH, train_loss / len(train_loader.dataset)))"
   ]
  },
  {
   "cell_type": "code",
   "execution_count": null,
   "metadata": {},
   "outputs": [],
   "source": [
    "# Visualization\n",
    "import matplotlib.pyplot as plt\n",
    "\n",
    "digit_size = 28\n",
    "z_sample = np.random.rand(1, latent_dim) # random \n",
    "plt.figure(figsize=(20, 1))\n",
    "\n",
    "for i in range(10):\n",
    "    c = np.zeros((1, cond_dim))\n",
    "    c[0][i] = 1\n",
    "    \n",
    "    cvae.eval()\n",
    "    with torch.no_grad():\n",
    "        img = cvae.decoder(z_sample, c)\n",
    "        # reshape (if needed)\n",
    "\n",
    "    plt.subplot(1, i+1)\n",
    "    plt.axis('off')\n",
    "    plt.imshow(img, cmap='Greys_r',)\n",
    "plt.show()\n"
   ]
  },
  {
   "cell_type": "markdown",
   "metadata": {},
   "source": [
    "# UMAP\n",
    "These links help you to understand how UMAP works.\n",
    "\n",
    "[Scanpy anndata](https://anndata.readthedocs.io/en/stable/)\n",
    "\n",
    "[Scanpy umap](https://icb-scanpy.readthedocs-hosted.com/en/stable/api/scanpy.pl.umap.html)\n",
    "\n",
    "[Example](https://icb-scanpy-tutorials.readthedocs-hosted.com/en/latest/visualizing-marker-genes.html)"
   ]
  },
  {
   "cell_type": "code",
   "execution_count": null,
   "metadata": {},
   "outputs": [],
   "source": [
    "# Create latent space and labels for UMAP\n",
    "cvae.eval()\n",
    "latent = None\n",
    "labels = None\n",
    "with torch.no_grad():\n",
    "    for data, cond in test_loader:\n",
    "        data = data.to(device)\n",
    "        \n",
    "        if labels is None:\n",
    "            latent = cond\n",
    "        else:\n",
    "            # concatenate labels and cond\n",
    "            \n",
    "        cond = None # create one-hot condition\n",
    "        cond = conde.to(device)\n",
    "        \n",
    "        batch_latent = cvae.encoder(data, cond)\n",
    "        if latent is None:\n",
    "            latent = batch_latent\n",
    "        else:\n",
    "            # concatenate latent and batch_latent\n"
   ]
  },
  {
   "cell_type": "code",
   "execution_count": null,
   "metadata": {},
   "outputs": [],
   "source": [
    "# UMAP\n",
    "import scanpy as sc\n",
    "\n",
    "labels = labels.astype(str)\n",
    "latent_anndata = sc.AnnData(X=latent,\n",
    "                        obs={\"Numbers\": label})\n",
    "sc.pp.neighbors(latent_anndata)\n",
    "sc.tl.umap(latent_anndata)\n",
    "\n",
    "# Visualization\n",
    "sc.pl.umap(latent_anndata, color=[\"Numbers\"],\n",
    "           frameon=False,\n",
    "           legend_loc=False,\n",
    "           show=True)"
   ]
  }
 ],
 "metadata": {
  "kernelspec": {
   "display_name": "Python 3",
   "language": "python",
   "name": "python3"
  },
  "language_info": {
   "codemirror_mode": {
    "name": "ipython",
    "version": 3
   },
   "file_extension": ".py",
   "mimetype": "text/x-python",
   "name": "python",
   "nbconvert_exporter": "python",
   "pygments_lexer": "ipython3",
   "version": "3.7.4"
  }
 },
 "nbformat": 4,
 "nbformat_minor": 2
}
